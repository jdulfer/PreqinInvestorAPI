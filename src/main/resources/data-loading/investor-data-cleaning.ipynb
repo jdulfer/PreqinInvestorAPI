{
 "cells": [
  {
   "metadata": {
    "ExecuteTime": {
     "end_time": "2025-05-14T16:42:49.219868Z",
     "start_time": "2025-05-14T16:42:48.665747Z"
    }
   },
   "cell_type": "code",
   "source": [
    "import org.jetbrains.kotlinx.dataframe.DataFrame\n",
    "import org.jetbrains.kotlinx.dataframe.io.*\n",
    "import org.jetbrains.kotlinx.dataframe.api.*\n",
    "\n",
    "// Read CSV file\n",
    "val df = DataFrame.read(\"data.csv\")"
   ],
   "outputs": [],
   "execution_count": 86
  },
  {
   "metadata": {
    "ExecuteTime": {
     "end_time": "2025-05-14T16:42:49.920141Z",
     "start_time": "2025-05-14T16:42:49.228170Z"
    }
   },
   "cell_type": "code",
   "source": [
    "val investorDf = df[\"Investor Name\", \"Investory Type\", \"Investor Country\", \"Investor Date Added\", \"Investor Last Updated\"]\n",
    "    .distinct().add(\"id\") { index() + 1 }\n",
    "    .rename(\"Investor Name\").into(\"name\")\n",
    "    .rename(\"Investory Type\").into(\"investory_type\")\n",
    "    .rename(\"Investor Country\").into(\"country\")\n",
    "    .rename(\"Investor Date Added\").into(\"date_added\")\n",
    "    .rename(\"Investor Last Updated\").into(\"last_updated\")\n",
    "    .move(\"id\").to(0)"
   ],
   "outputs": [],
   "execution_count": 87
  },
  {
   "metadata": {
    "ExecuteTime": {
     "end_time": "2025-05-14T16:42:50.874538Z",
     "start_time": "2025-05-14T16:42:49.933155Z"
    }
   },
   "cell_type": "code",
   "source": [
    "val commitmentsDf = df[\"Investor Name\", \"Commitment Asset Class\", \"Commitment Amount\", \"Commitment Currency\"]\n",
    "    .convert(\"Investor Name\").with { oldName ->\n",
    "        investorDf.first { it.get(\"name\") == oldName }.get(\"id\")\n",
    "    }\n",
    "    .add(\"id\") { index() + 1 }\n",
    "    .move(\"id\").to(0)\n",
    "    .rename(\"Investor Name\").into(\"investor_id\")\n",
    "    .rename(\"Commitment Asset Class\").into(\"asset_class\")\n",
    "    .rename(\"Commitment Amount\").into(\"amount\")\n",
    "    .rename(\"Commitment Currency\").into(\"currency\")"
   ],
   "outputs": [],
   "execution_count": 88
  },
  {
   "metadata": {
    "ExecuteTime": {
     "end_time": "2025-05-14T16:42:51.336348Z",
     "start_time": "2025-05-14T16:42:50.891819Z"
    }
   },
   "cell_type": "code",
   "source": [
    "investorDf.writeCSV(\"investor_data.csv\")\n",
    "commitmentsDf.writeCSV(\"commitment_data.csv\")"
   ],
   "outputs": [],
   "execution_count": 89
  },
  {
   "metadata": {
    "ExecuteTime": {
     "end_time": "2025-05-14T16:42:51.451928Z",
     "start_time": "2025-05-14T16:42:51.354544Z"
    }
   },
   "cell_type": "code",
   "source": "",
   "outputs": [],
   "execution_count": null
  }
 ],
 "metadata": {
  "kernelspec": {
   "display_name": "Kotlin",
   "language": "kotlin",
   "name": "kotlin"
  },
  "language_info": {
   "name": "kotlin",
   "version": "1.9.23",
   "mimetype": "text/x-kotlin",
   "file_extension": ".kt",
   "pygments_lexer": "kotlin",
   "codemirror_mode": "text/x-kotlin",
   "nbconvert_exporter": ""
  },
  "ktnbPluginMetadata": {
   "projectLibraries": true
  }
 },
 "nbformat": 4,
 "nbformat_minor": 0
}
